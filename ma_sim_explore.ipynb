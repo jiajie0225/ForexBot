{
 "cells": [
  {
   "cell_type": "code",
   "execution_count": 13,
   "metadata": {},
   "outputs": [],
   "source": [
    "import pandas as pd\n",
    "import plotly.graph_objects as go"
   ]
  },
  {
   "cell_type": "code",
   "execution_count": 14,
   "metadata": {},
   "outputs": [],
   "source": [
    "ma_test_res = pd.read_pickle(\"ma_test_res.pkl\")\n",
    "all_trades = pd.read_pickle(\"all_trades.pkl\")"
   ]
  },
  {
   "cell_type": "code",
   "execution_count": 15,
   "metadata": {},
   "outputs": [
    {
     "data": {
      "text/plain": [
       "(82294, 11)"
      ]
     },
     "execution_count": 15,
     "metadata": {},
     "output_type": "execute_result"
    }
   ],
   "source": [
    "all_trades.shape"
   ]
  },
  {
   "cell_type": "code",
   "execution_count": 16,
   "metadata": {},
   "outputs": [
    {
     "data": {
      "text/plain": [
       "(630, 8)"
      ]
     },
     "execution_count": 16,
     "metadata": {},
     "output_type": "execute_result"
    }
   ],
   "source": [
    "ma_test_res.shape"
   ]
  },
  {
   "cell_type": "code",
   "execution_count": 17,
   "metadata": {},
   "outputs": [
    {
     "data": {
      "text/html": [
       "<div>\n",
       "<style scoped>\n",
       "    .dataframe tbody tr th:only-of-type {\n",
       "        vertical-align: middle;\n",
       "    }\n",
       "\n",
       "    .dataframe tbody tr th {\n",
       "        vertical-align: top;\n",
       "    }\n",
       "\n",
       "    .dataframe thead th {\n",
       "        text-align: right;\n",
       "    }\n",
       "</style>\n",
       "<table border=\"1\" class=\"dataframe\">\n",
       "  <thead>\n",
       "    <tr style=\"text-align: right;\">\n",
       "      <th></th>\n",
       "      <th>pair</th>\n",
       "      <th>num_trades</th>\n",
       "      <th>total_gain</th>\n",
       "      <th>mean_gain</th>\n",
       "      <th>min_gain</th>\n",
       "      <th>max_gain</th>\n",
       "      <th>mashort</th>\n",
       "      <th>malong</th>\n",
       "    </tr>\n",
       "  </thead>\n",
       "  <tbody>\n",
       "    <tr>\n",
       "      <th>0</th>\n",
       "      <td>GBP_USD</td>\n",
       "      <td>685</td>\n",
       "      <td>53.2</td>\n",
       "      <td>0.077664</td>\n",
       "      <td>-113.8</td>\n",
       "      <td>199.6</td>\n",
       "      <td>4</td>\n",
       "      <td>8</td>\n",
       "    </tr>\n",
       "    <tr>\n",
       "      <th>1</th>\n",
       "      <td>GBP_USD</td>\n",
       "      <td>400</td>\n",
       "      <td>-1263.8</td>\n",
       "      <td>-3.159500</td>\n",
       "      <td>-123.9</td>\n",
       "      <td>239.2</td>\n",
       "      <td>4</td>\n",
       "      <td>16</td>\n",
       "    </tr>\n",
       "    <tr>\n",
       "      <th>2</th>\n",
       "      <td>GBP_USD</td>\n",
       "      <td>371</td>\n",
       "      <td>-829.2</td>\n",
       "      <td>-2.235040</td>\n",
       "      <td>-127.2</td>\n",
       "      <td>261.2</td>\n",
       "      <td>8</td>\n",
       "      <td>16</td>\n",
       "    </tr>\n",
       "    <tr>\n",
       "      <th>3</th>\n",
       "      <td>GBP_USD</td>\n",
       "      <td>241</td>\n",
       "      <td>124.4</td>\n",
       "      <td>0.516183</td>\n",
       "      <td>-83.0</td>\n",
       "      <td>314.2</td>\n",
       "      <td>4</td>\n",
       "      <td>32</td>\n",
       "    </tr>\n",
       "    <tr>\n",
       "      <th>4</th>\n",
       "      <td>GBP_USD</td>\n",
       "      <td>185</td>\n",
       "      <td>430.8</td>\n",
       "      <td>2.328649</td>\n",
       "      <td>-108.7</td>\n",
       "      <td>316.6</td>\n",
       "      <td>8</td>\n",
       "      <td>32</td>\n",
       "    </tr>\n",
       "  </tbody>\n",
       "</table>\n",
       "</div>"
      ],
      "text/plain": [
       "      pair  num_trades  total_gain  mean_gain  min_gain  max_gain  mashort  \\\n",
       "0  GBP_USD         685        53.2   0.077664    -113.8     199.6        4   \n",
       "1  GBP_USD         400     -1263.8  -3.159500    -123.9     239.2        4   \n",
       "2  GBP_USD         371      -829.2  -2.235040    -127.2     261.2        8   \n",
       "3  GBP_USD         241       124.4   0.516183     -83.0     314.2        4   \n",
       "4  GBP_USD         185       430.8   2.328649    -108.7     316.6        8   \n",
       "\n",
       "   malong  \n",
       "0       8  \n",
       "1      16  \n",
       "2      16  \n",
       "3      32  \n",
       "4      32  "
      ]
     },
     "execution_count": 17,
     "metadata": {},
     "output_type": "execute_result"
    }
   ],
   "source": [
    "ma_test_res.head()"
   ]
  },
  {
   "cell_type": "code",
   "execution_count": 18,
   "metadata": {},
   "outputs": [],
   "source": [
    "ma_test_res = ma_test_res[['pair', 'num_trades', 'total_gain','mashort', 'malong']]"
   ]
  },
  {
   "cell_type": "code",
   "execution_count": 19,
   "metadata": {},
   "outputs": [],
   "source": [
    "ma_test_res[\"CROSS\"] = \"MA_\" + ma_test_res.mashort.map(str) + \"_\" + ma_test_res.malong.map(str)"
   ]
  },
  {
   "cell_type": "code",
   "execution_count": 20,
   "metadata": {},
   "outputs": [],
   "source": [
    "df_all_gains = ma_test_res.groupby(by=[\"CROSS\",\"mashort\", \"malong\"], as_index=False).sum()"
   ]
  },
  {
   "cell_type": "code",
   "execution_count": 21,
   "metadata": {},
   "outputs": [],
   "source": [
    "df_all_gains.sort_values(by=\"total_gain\", ascending=False, inplace=True)"
   ]
  },
  {
   "cell_type": "code",
   "execution_count": 22,
   "metadata": {},
   "outputs": [
    {
     "data": {
      "text/html": [
       "<div>\n",
       "<style scoped>\n",
       "    .dataframe tbody tr th:only-of-type {\n",
       "        vertical-align: middle;\n",
       "    }\n",
       "\n",
       "    .dataframe tbody tr th {\n",
       "        vertical-align: top;\n",
       "    }\n",
       "\n",
       "    .dataframe thead th {\n",
       "        text-align: right;\n",
       "    }\n",
       "</style>\n",
       "<table border=\"1\" class=\"dataframe\">\n",
       "  <thead>\n",
       "    <tr style=\"text-align: right;\">\n",
       "      <th></th>\n",
       "      <th>CROSS</th>\n",
       "      <th>mashort</th>\n",
       "      <th>malong</th>\n",
       "      <th>pair</th>\n",
       "      <th>num_trades</th>\n",
       "      <th>total_gain</th>\n",
       "    </tr>\n",
       "  </thead>\n",
       "  <tbody>\n",
       "    <tr>\n",
       "      <th>2</th>\n",
       "      <td>MA_16_32</td>\n",
       "      <td>16</td>\n",
       "      <td>32</td>\n",
       "      <td>GBP_USDGBP_CADGBP_JPYGBP_NZDGBP_CHFEUR_GBPEUR_...</td>\n",
       "      <td>3448</td>\n",
       "      <td>4523.1</td>\n",
       "    </tr>\n",
       "    <tr>\n",
       "      <th>25</th>\n",
       "      <td>MA_8_16</td>\n",
       "      <td>8</td>\n",
       "      <td>16</td>\n",
       "      <td>GBP_USDGBP_CADGBP_JPYGBP_NZDGBP_CHFEUR_GBPEUR_...</td>\n",
       "      <td>7219</td>\n",
       "      <td>2326.2</td>\n",
       "    </tr>\n",
       "    <tr>\n",
       "      <th>17</th>\n",
       "      <td>MA_4_32</td>\n",
       "      <td>4</td>\n",
       "      <td>32</td>\n",
       "      <td>GBP_USDGBP_CADGBP_JPYGBP_NZDGBP_CHFEUR_GBPEUR_...</td>\n",
       "      <td>5066</td>\n",
       "      <td>1898.1</td>\n",
       "    </tr>\n",
       "    <tr>\n",
       "      <th>27</th>\n",
       "      <td>MA_8_32</td>\n",
       "      <td>8</td>\n",
       "      <td>32</td>\n",
       "      <td>GBP_USDGBP_CADGBP_JPYGBP_NZDGBP_CHFEUR_GBPEUR_...</td>\n",
       "      <td>3984</td>\n",
       "      <td>1759.8</td>\n",
       "    </tr>\n",
       "    <tr>\n",
       "      <th>15</th>\n",
       "      <td>MA_4_16</td>\n",
       "      <td>4</td>\n",
       "      <td>16</td>\n",
       "      <td>GBP_USDGBP_CADGBP_JPYGBP_NZDGBP_CHFEUR_GBPEUR_...</td>\n",
       "      <td>8251</td>\n",
       "      <td>1400.2</td>\n",
       "    </tr>\n",
       "  </tbody>\n",
       "</table>\n",
       "</div>"
      ],
      "text/plain": [
       "       CROSS  mashort  malong  \\\n",
       "2   MA_16_32       16      32   \n",
       "25   MA_8_16        8      16   \n",
       "17   MA_4_32        4      32   \n",
       "27   MA_8_32        8      32   \n",
       "15   MA_4_16        4      16   \n",
       "\n",
       "                                                 pair  num_trades  total_gain  \n",
       "2   GBP_USDGBP_CADGBP_JPYGBP_NZDGBP_CHFEUR_GBPEUR_...        3448      4523.1  \n",
       "25  GBP_USDGBP_CADGBP_JPYGBP_NZDGBP_CHFEUR_GBPEUR_...        7219      2326.2  \n",
       "17  GBP_USDGBP_CADGBP_JPYGBP_NZDGBP_CHFEUR_GBPEUR_...        5066      1898.1  \n",
       "27  GBP_USDGBP_CADGBP_JPYGBP_NZDGBP_CHFEUR_GBPEUR_...        3984      1759.8  \n",
       "15  GBP_USDGBP_CADGBP_JPYGBP_NZDGBP_CHFEUR_GBPEUR_...        8251      1400.2  "
      ]
     },
     "execution_count": 22,
     "metadata": {},
     "output_type": "execute_result"
    }
   ],
   "source": [
    "df_all_gains.head()"
   ]
  },
  {
   "cell_type": "code",
   "execution_count": 23,
   "metadata": {},
   "outputs": [],
   "source": [
    "ma_16_32 = ma_test_res[ma_test_res.CROSS=='MA_16_32'].copy()"
   ]
  },
  {
   "cell_type": "code",
   "execution_count": 25,
   "metadata": {},
   "outputs": [],
   "source": [
    "ma_16_32.sort_values(by=\"total_gain\", ascending=False, inplace=True)"
   ]
  },
  {
   "cell_type": "code",
   "execution_count": 26,
   "metadata": {},
   "outputs": [
    {
     "data": {
      "text/html": [
       "<div>\n",
       "<style scoped>\n",
       "    .dataframe tbody tr th:only-of-type {\n",
       "        vertical-align: middle;\n",
       "    }\n",
       "\n",
       "    .dataframe tbody tr th {\n",
       "        vertical-align: top;\n",
       "    }\n",
       "\n",
       "    .dataframe thead th {\n",
       "        text-align: right;\n",
       "    }\n",
       "</style>\n",
       "<table border=\"1\" class=\"dataframe\">\n",
       "  <thead>\n",
       "    <tr style=\"text-align: right;\">\n",
       "      <th></th>\n",
       "      <th>pair</th>\n",
       "      <th>num_trades</th>\n",
       "      <th>total_gain</th>\n",
       "      <th>mashort</th>\n",
       "      <th>malong</th>\n",
       "      <th>CROSS</th>\n",
       "    </tr>\n",
       "  </thead>\n",
       "  <tbody>\n",
       "    <tr>\n",
       "      <th>65</th>\n",
       "      <td>GBP_JPY</td>\n",
       "      <td>155</td>\n",
       "      <td>1716.9</td>\n",
       "      <td>16</td>\n",
       "      <td>32</td>\n",
       "      <td>MA_16_32</td>\n",
       "    </tr>\n",
       "    <tr>\n",
       "      <th>95</th>\n",
       "      <td>GBP_NZD</td>\n",
       "      <td>176</td>\n",
       "      <td>1467.1</td>\n",
       "      <td>16</td>\n",
       "      <td>32</td>\n",
       "      <td>MA_16_32</td>\n",
       "    </tr>\n",
       "    <tr>\n",
       "      <th>545</th>\n",
       "      <td>NZD_JPY</td>\n",
       "      <td>155</td>\n",
       "      <td>1318.2</td>\n",
       "      <td>16</td>\n",
       "      <td>32</td>\n",
       "      <td>MA_16_32</td>\n",
       "    </tr>\n",
       "    <tr>\n",
       "      <th>275</th>\n",
       "      <td>EUR_NZD</td>\n",
       "      <td>175</td>\n",
       "      <td>1114.1</td>\n",
       "      <td>16</td>\n",
       "      <td>32</td>\n",
       "      <td>MA_16_32</td>\n",
       "    </tr>\n",
       "    <tr>\n",
       "      <th>455</th>\n",
       "      <td>CAD_CHF</td>\n",
       "      <td>165</td>\n",
       "      <td>716.7</td>\n",
       "      <td>16</td>\n",
       "      <td>32</td>\n",
       "      <td>MA_16_32</td>\n",
       "    </tr>\n",
       "  </tbody>\n",
       "</table>\n",
       "</div>"
      ],
      "text/plain": [
       "        pair  num_trades  total_gain  mashort  malong     CROSS\n",
       "65   GBP_JPY         155      1716.9       16      32  MA_16_32\n",
       "95   GBP_NZD         176      1467.1       16      32  MA_16_32\n",
       "545  NZD_JPY         155      1318.2       16      32  MA_16_32\n",
       "275  EUR_NZD         175      1114.1       16      32  MA_16_32\n",
       "455  CAD_CHF         165       716.7       16      32  MA_16_32"
      ]
     },
     "execution_count": 26,
     "metadata": {},
     "output_type": "execute_result"
    }
   ],
   "source": [
    "ma_16_32.head()"
   ]
  },
  {
   "cell_type": "code",
   "execution_count": 27,
   "metadata": {},
   "outputs": [],
   "source": [
    "total_p = len(ma_16_32.pair.unique())"
   ]
  },
  {
   "cell_type": "code",
   "execution_count": 29,
   "metadata": {},
   "outputs": [
    {
     "data": {
      "text/plain": [
       "11"
      ]
     },
     "execution_count": 29,
     "metadata": {},
     "output_type": "execute_result"
    }
   ],
   "source": [
    "ma_16_32[ma_16_32.total_gain>0].shape[0]"
   ]
  },
  {
   "cell_type": "code",
   "execution_count": 30,
   "metadata": {},
   "outputs": [
    {
     "data": {
      "text/plain": [
       "0.5238095238095238"
      ]
     },
     "execution_count": 30,
     "metadata": {},
     "output_type": "execute_result"
    }
   ],
   "source": [
    "ma_16_32[ma_16_32.total_gain>0].shape[0]/total_p"
   ]
  },
  {
   "cell_type": "code",
   "execution_count": 32,
   "metadata": {},
   "outputs": [
    {
     "name": "stdout",
     "output_type": "stream",
     "text": [
      "MA_16_32       11 52.4%\n",
      "MA_8_16        11 52.4%\n",
      "MA_4_32        12 57.1%\n",
      "MA_8_32        11 52.4%\n",
      "MA_4_16        10 47.6%\n",
      "MA_24_32        9 42.9%\n",
      "MA_64_256      10 47.6%\n",
      "MA_8_256        8 38.1%\n",
      "MA_8_64         8 38.1%\n",
      "MA_4_8          6 28.6%\n",
      "MA_4_256        7 33.3%\n",
      "MA_16_256       8 38.1%\n",
      "MA_4_64         6 28.6%\n",
      "MA_32_256       8 38.1%\n",
      "MA_24_256       5 23.8%\n",
      "MA_16_64        5 23.8%\n",
      "MA_8_96         5 23.8%\n",
      "MA_4_128        3 14.3%\n",
      "MA_4_96         5 23.8%\n",
      "MA_16_96        4 19.0%\n",
      "MA_8_128        4 19.0%\n",
      "MA_24_64        5 23.8%\n",
      "MA_64_128       3 14.3%\n",
      "MA_64_96        4 19.0%\n",
      "MA_16_128       4 19.0%\n",
      "MA_24_96        3 14.3%\n",
      "MA_32_64        4 19.0%\n",
      "MA_24_128       2  9.5%\n",
      "MA_32_96        3 14.3%\n",
      "MA_32_128       3 14.3%\n"
     ]
    }
   ],
   "source": [
    "for cross in df_all_gains.CROSS.unique():\n",
    "    df_temp = ma_test_res[ma_test_res.CROSS==cross]\n",
    "    total_p = df_temp.shape[0]\n",
    "    n_good = df_temp[df_temp.total_gain>0].shape[0]\n",
    "    print(f\"{cross:12} {n_good:4} {(n_good/total_p)*100:4.1f}%\")"
   ]
  },
  {
   "cell_type": "code",
   "execution_count": null,
   "metadata": {},
   "outputs": [],
   "source": []
  }
 ],
 "metadata": {
  "kernelspec": {
   "display_name": "venv",
   "language": "python",
   "name": "python3"
  },
  "language_info": {
   "codemirror_mode": {
    "name": "ipython",
    "version": 3
   },
   "file_extension": ".py",
   "mimetype": "text/x-python",
   "name": "python",
   "nbconvert_exporter": "python",
   "pygments_lexer": "ipython3",
   "version": "3.11.4"
  }
 },
 "nbformat": 4,
 "nbformat_minor": 2
}
