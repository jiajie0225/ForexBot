{
 "cells": [
  {
   "cell_type": "code",
   "execution_count": 1,
   "metadata": {},
   "outputs": [
    {
     "name": "stdout",
     "output_type": "stream",
     "text": [
      "The probability of observing at most three clicks is approximately 8%.\n"
     ]
    }
   ],
   "source": [
    "from scipy.stats import binom\n",
    "\n",
    "# Number of trials (impressions)\n",
    "n = 1000\n",
    "\n",
    "# Probability of success (CTR)\n",
    "p = 0.007\n",
    "\n",
    "# Define the binomial distribution\n",
    "dist = binom(n, p)\n",
    "\n",
    "# Calculate the probability of observing at most 3 clicks\n",
    "probability = dist.cdf(3)\n",
    "\n",
    "# Convert to percentage and round\n",
    "result_percentage = round(probability * 100)\n",
    "\n",
    "print(f\"The probability of observing at most three clicks is approximately {result_percentage}%.\")\n"
   ]
  },
  {
   "cell_type": "code",
   "execution_count": 3,
   "metadata": {},
   "outputs": [
    {
     "name": "stdout",
     "output_type": "stream",
     "text": [
      "[0.0008897100481053074, 0.006271873450899648, 0.022084194885232798, 0.05178925326231982]\n",
      "8.1\n"
     ]
    }
   ],
   "source": [
    "from scipy.stats import binom\n",
    "\n",
    "n = 1000  # number of trials\n",
    "p = 0.007  # probability of success (CTR)\n",
    "\n",
    "# Calculate the probabilities for k=0, 1, 2, 3\n",
    "probabilities = [binom.pmf(k, n, p) for k in range(4)]\n",
    "print(probabilities)\n",
    "# Sum up the probabilities\n",
    "result = sum(probabilities)\n",
    "\n",
    "# Convert result to percentage and round\n",
    "result_percentage = round(result * 100, 2)\n",
    "\n",
    "print(result_percentage)\n"
   ]
  },
  {
   "cell_type": "code",
   "execution_count": null,
   "metadata": {},
   "outputs": [],
   "source": []
  }
 ],
 "metadata": {
  "kernelspec": {
   "display_name": "venv",
   "language": "python",
   "name": "python3"
  },
  "language_info": {
   "codemirror_mode": {
    "name": "ipython",
    "version": 3
   },
   "file_extension": ".py",
   "mimetype": "text/x-python",
   "name": "python",
   "nbconvert_exporter": "python",
   "pygments_lexer": "ipython3",
   "version": "3.8.8"
  }
 },
 "nbformat": 4,
 "nbformat_minor": 2
}
