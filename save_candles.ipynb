{
 "cells": [
  {
   "cell_type": "code",
   "execution_count": 1,
   "metadata": {},
   "outputs": [],
   "source": [
    "import requests\n",
    "import defs\n",
    "import pandas as pd"
   ]
  },
  {
   "cell_type": "code",
   "execution_count": 2,
   "metadata": {},
   "outputs": [],
   "source": [
    "# Request has a session object, help maintain persisteng connection\n",
    "session = requests.Session()"
   ]
  },
  {
   "cell_type": "code",
   "execution_count": 3,
   "metadata": {},
   "outputs": [],
   "source": [
    "ins_df = pd.read_pickle(\"instrument.pkl\")"
   ]
  },
  {
   "cell_type": "code",
   "execution_count": 4,
   "metadata": {},
   "outputs": [],
   "source": [
    "our_curr = ['EUR','USD','GBP','JPY','CHF','NZD', 'CAD']"
   ]
  },
  {
   "cell_type": "code",
   "execution_count": 6,
   "metadata": {},
   "outputs": [
    {
     "name": "stdout",
     "output_type": "stream",
     "text": [
      "<class 'pandas.core.frame.DataFrame'>\n",
      "RangeIndex: 123 entries, 0 to 122\n",
      "Data columns (total 5 columns):\n",
      " #   Column       Non-Null Count  Dtype \n",
      "---  ------       --------------  ----- \n",
      " 0   name         123 non-null    object\n",
      " 1   type         123 non-null    object\n",
      " 2   displayName  123 non-null    object\n",
      " 3   pipLocation  123 non-null    int64 \n",
      " 4   marginRate   123 non-null    object\n",
      "dtypes: int64(1), object(4)\n",
      "memory usage: 4.9+ KB\n"
     ]
    }
   ],
   "source": [
    "# Get all possible tradabl;e pairs\n",
    "ins_df.shape\n",
    "ins_df.info()"
   ]
  },
  {
   "cell_type": "code",
   "execution_count": 10,
   "metadata": {},
   "outputs": [
    {
     "data": {
      "text/plain": [
       "array(['USD_SGD', 'EUR_SEK', 'HKD_JPY', 'AUD_USD', 'USD_CAD',\n",
       "       'US2000_USD', 'USB10Y_USD', 'NZD_USD', 'XAG_EUR', 'XAG_GBP',\n",
       "       'HK33_HKD', 'NZD_SGD', 'USD_NOK', 'USD_CNH', 'USB02Y_USD',\n",
       "       'XCU_USD', 'SGD_CHF', 'SPX500_USD', 'GBP_JPY', 'USD_TRY',\n",
       "       'AUD_JPY', 'CN50_USD', 'ZAR_JPY', 'XAG_JPY', 'SGD_JPY', 'GBP_ZAR',\n",
       "       'USD_JPY', 'EUR_TRY', 'EUR_JPY', 'AUD_SGD', 'XAG_NZD', 'WTICO_USD',\n",
       "       'XAG_AUD', 'EUR_NZD', 'GBP_HKD', 'CHF_JPY', 'EUR_HKD', 'GBP_CAD',\n",
       "       'XAU_HKD', 'XAU_JPY', 'USD_THB', 'GBP_CHF', 'AUD_CHF', 'ESPIX_EUR',\n",
       "       'NZD_CHF', 'AUD_HKD', 'XAG_HKD', 'USD_CHF', 'XAG_CHF', 'CAD_HKD',\n",
       "       'CH20_CHF', 'XAU_SGD', 'CORN_USD', 'EUR_CHF', 'EUR_SGD', 'NZD_CAD',\n",
       "       'CHINAH_HKD', 'GBP_AUD', 'USD_PLN', 'EUR_ZAR', 'NAS100_USD',\n",
       "       'TRY_JPY', 'SOYBN_USD', 'XAU_XAG', 'AU200_AUD', 'XAU_CAD',\n",
       "       'EU50_EUR', 'EUR_AUD', 'NL25_EUR', 'USD_ZAR', 'CAD_JPY', 'NZD_HKD',\n",
       "       'XAU_NZD', 'USD_CZK', 'USD_DKK', 'XAU_GBP', 'USD_SEK', 'GBP_SGD',\n",
       "       'EUR_DKK', 'BCO_USD', 'CHF_ZAR', 'CAD_CHF', 'XAG_SGD', 'XAU_CHF',\n",
       "       'GBP_USD', 'USD_MXN', 'USD_HUF', 'JP225_USD', 'USD_HKD', 'EUR_USD',\n",
       "       'SG30_SGD', 'EUR_CAD', 'XAG_CAD', 'XPT_USD', 'XAU_EUR', 'DE30_EUR',\n",
       "       'UK10YB_GBP', 'XPD_USD', 'NATGAS_USD', 'AUD_CAD', 'GBP_PLN',\n",
       "       'DE10YB_EUR', 'EUR_PLN', 'SUGAR_USD', 'GBP_NZD', 'EUR_HUF',\n",
       "       'UK100_GBP', 'JP225Y_JPY', 'XAU_USD', 'EUR_NOK', 'US30_USD',\n",
       "       'CHF_HKD', 'FR40_EUR', 'EUR_GBP', 'AUD_NZD', 'CAD_SGD',\n",
       "       'WHEAT_USD', 'XAU_AUD', 'EUR_CZK', 'NZD_JPY', 'USB05Y_USD',\n",
       "       'USB30Y_USD', 'XAG_USD'], dtype=object)"
      ]
     },
     "execution_count": 10,
     "metadata": {},
     "output_type": "execute_result"
    }
   ],
   "source": [
    "ins_df.name.unique()"
   ]
  },
  {
   "cell_type": "code",
   "execution_count": 13,
   "metadata": {},
   "outputs": [],
   "source": [
    "def fetch_candles(pair_name, count, granularity):\n",
    "    url = f\"{defs.OANDA_URL}/instruments/{pair_name}/candles\"\n",
    "    params = dict(\n",
    "        count = count,\n",
    "        granularity = granularity,\n",
    "        price = \"MBA\"\n",
    "    )\n",
    "    response = session.get(url, params=params, headers= defs.SECURE_HEADER)\n",
    "    return response.status_code, response.json()\n",
    "\n"
   ]
  },
  {
   "cell_type": "code",
   "execution_count": 18,
   "metadata": {},
   "outputs": [],
   "source": [
    "def get_candles_df(json_response):\n",
    "    prices = ['mid', 'bid', 'ask']\n",
    "    ohlc = ['o', 'h', 'l', 'c']\n",
    "\n",
    "    our_data= []\n",
    "    for candle in json_response['candles']:\n",
    "        if candle['complete'] == False:\n",
    "            continue\n",
    "        new_dict = {}\n",
    "        new_dict['time'] = candle['time']\n",
    "        new_dict['volume'] = candle['volume']\n",
    "        #print(new_dict)\n",
    "        for price in prices:\n",
    "            for oh in ohlc:\n",
    "                new_dict[f\"{price}_{oh}\"]= candle[price][oh]\n",
    "        our_data.append(new_dict)\n",
    "    return pd.DataFrame.from_dict(our_data)\n"
   ]
  },
  {
   "cell_type": "code",
   "execution_count": 27,
   "metadata": {},
   "outputs": [],
   "source": [
    "def save_file(candles_df, pair, granularity):\n",
    "    candles_df.to_pickle(f\"his_data/{pair}_{granularity}.pkl\")\n"
   ]
  },
  {
   "cell_type": "code",
   "execution_count": 31,
   "metadata": {},
   "outputs": [],
   "source": [
    "def create_data(pair, granularity):\n",
    "    code, json_data = fetch_candles(pair, 5000, granularity)\n",
    "    if code != 200:\n",
    "        print(pair, \"Error\")\n",
    "        return\n",
    "    df = get_candles_df(json_data)\n",
    "    print(f\"{pair} loaded {df.shape[0]} candles from {df.time.min()} to {df.time.max()}\")\n",
    "    save_file(df, pair, granularity)\n"
   ]
  },
  {
   "cell_type": "code",
   "execution_count": 32,
   "metadata": {},
   "outputs": [
    {
     "name": "stdout",
     "output_type": "stream",
     "text": [
      "EUR_USD loaded 5000 candles from 2023-01-17T14:00:00.000000000Z to 2023-11-03T20:00:00.000000000Z\n",
      "EUR_GBP loaded 5000 candles from 2023-01-17T14:00:00.000000000Z to 2023-11-03T20:00:00.000000000Z\n",
      "EUR_JPY loaded 5000 candles from 2023-01-17T14:00:00.000000000Z to 2023-11-03T20:00:00.000000000Z\n",
      "EUR_CHF loaded 5000 candles from 2023-01-17T14:00:00.000000000Z to 2023-11-03T20:00:00.000000000Z\n",
      "EUR_NZD loaded 5000 candles from 2023-01-17T13:00:00.000000000Z to 2023-11-03T20:00:00.000000000Z\n",
      "EUR_CAD loaded 5000 candles from 2023-01-17T14:00:00.000000000Z to 2023-11-03T20:00:00.000000000Z\n",
      "USD_JPY loaded 5000 candles from 2023-01-17T14:00:00.000000000Z to 2023-11-03T20:00:00.000000000Z\n",
      "USD_CHF loaded 5000 candles from 2023-01-17T14:00:00.000000000Z to 2023-11-03T20:00:00.000000000Z\n",
      "USD_CAD loaded 5000 candles from 2023-01-17T14:00:00.000000000Z to 2023-11-03T20:00:00.000000000Z\n",
      "GBP_USD loaded 5000 candles from 2023-01-17T14:00:00.000000000Z to 2023-11-03T20:00:00.000000000Z\n",
      "GBP_JPY loaded 5000 candles from 2023-01-17T14:00:00.000000000Z to 2023-11-03T20:00:00.000000000Z\n",
      "GBP_CHF loaded 5000 candles from 2023-01-17T14:00:00.000000000Z to 2023-11-03T20:00:00.000000000Z\n",
      "GBP_NZD loaded 5000 candles from 2023-01-17T13:00:00.000000000Z to 2023-11-03T20:00:00.000000000Z\n",
      "GBP_CAD loaded 5000 candles from 2023-01-17T14:00:00.000000000Z to 2023-11-03T20:00:00.000000000Z\n",
      "CHF_JPY loaded 5000 candles from 2023-01-17T14:00:00.000000000Z to 2023-11-03T20:00:00.000000000Z\n",
      "NZD_USD loaded 5000 candles from 2023-01-17T14:00:00.000000000Z to 2023-11-03T20:00:00.000000000Z\n",
      "NZD_JPY loaded 5000 candles from 2023-01-17T14:00:00.000000000Z to 2023-11-03T20:00:00.000000000Z\n",
      "NZD_CHF loaded 5000 candles from 2023-01-17T07:00:00.000000000Z to 2023-11-03T20:00:00.000000000Z\n",
      "NZD_CAD loaded 5000 candles from 2023-01-17T13:00:00.000000000Z to 2023-11-03T20:00:00.000000000Z\n",
      "CAD_JPY loaded 5000 candles from 2023-01-17T14:00:00.000000000Z to 2023-11-03T20:00:00.000000000Z\n",
      "CAD_CHF loaded 5000 candles from 2023-01-17T12:00:00.000000000Z to 2023-11-03T20:00:00.000000000Z\n"
     ]
    }
   ],
   "source": [
    "for p1 in our_curr:\n",
    "    for p2 in our_curr:\n",
    "        pair = f\"{p1}_{p2}\"\n",
    "        if pair in ins_df.name.unique():\n",
    "            create_data(pair, \"H1\")"
   ]
  },
  {
   "cell_type": "code",
   "execution_count": null,
   "metadata": {},
   "outputs": [],
   "source": []
  },
  {
   "cell_type": "code",
   "execution_count": null,
   "metadata": {},
   "outputs": [],
   "source": []
  },
  {
   "cell_type": "code",
   "execution_count": null,
   "metadata": {},
   "outputs": [],
   "source": []
  },
  {
   "cell_type": "code",
   "execution_count": null,
   "metadata": {},
   "outputs": [],
   "source": []
  },
  {
   "cell_type": "code",
   "execution_count": null,
   "metadata": {},
   "outputs": [],
   "source": []
  },
  {
   "cell_type": "code",
   "execution_count": null,
   "metadata": {},
   "outputs": [],
   "source": []
  }
 ],
 "metadata": {
  "kernelspec": {
   "display_name": "venv",
   "language": "python",
   "name": "python3"
  },
  "language_info": {
   "codemirror_mode": {
    "name": "ipython",
    "version": 3
   },
   "file_extension": ".py",
   "mimetype": "text/x-python",
   "name": "python",
   "nbconvert_exporter": "python",
   "pygments_lexer": "ipython3",
   "version": "3.11.4"
  }
 },
 "nbformat": 4,
 "nbformat_minor": 2
}
