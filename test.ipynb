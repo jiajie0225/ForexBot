{
 "cells": [
  {
   "cell_type": "code",
   "execution_count": 1,
   "metadata": {},
   "outputs": [],
   "source": [
    "import requests\n",
    "import defs\n",
    "import pandas as pd"
   ]
  },
  {
   "cell_type": "code",
   "execution_count": 2,
   "metadata": {},
   "outputs": [],
   "source": [
    "# Request has a session object, help maintain persisteng connection\n",
    "session = requests.Session()"
   ]
  },
  {
   "cell_type": "code",
   "execution_count": 3,
   "metadata": {},
   "outputs": [],
   "source": [
    "instrument =  \"EUR_USD\"\n",
    "count = 10\n",
    "granularity = \"H1\""
   ]
  },
  {
   "cell_type": "code",
   "execution_count": 4,
   "metadata": {},
   "outputs": [],
   "source": [
    "url = f\"{defs.OANDA_URL}/instruments/{instrument}/candles\""
   ]
  },
  {
   "cell_type": "code",
   "execution_count": 5,
   "metadata": {},
   "outputs": [
    {
     "data": {
      "text/plain": [
       "'https://api-fxpractice.oanda.com/v3/instruments/EUR_USD/candles'"
      ]
     },
     "execution_count": 5,
     "metadata": {},
     "output_type": "execute_result"
    }
   ],
   "source": [
    "url"
   ]
  },
  {
   "cell_type": "code",
   "execution_count": 6,
   "metadata": {},
   "outputs": [],
   "source": [
    "params = dict(\n",
    "    count = count,\n",
    "    granularity = granularity,\n",
    "    price = \"MBA\"\n",
    ")"
   ]
  },
  {
   "cell_type": "code",
   "execution_count": 7,
   "metadata": {},
   "outputs": [
    {
     "data": {
      "text/plain": [
       "{'count': 10, 'granularity': 'H1', 'price': 'MBA'}"
      ]
     },
     "execution_count": 7,
     "metadata": {},
     "output_type": "execute_result"
    }
   ],
   "source": [
    "params"
   ]
  },
  {
   "cell_type": "code",
   "execution_count": 8,
   "metadata": {},
   "outputs": [],
   "source": [
    "# To make our request to Onanda Api using get\n",
    "response = session.get(url, params=params, headers= defs.SECURE_HEADER)"
   ]
  },
  {
   "cell_type": "code",
   "execution_count": 9,
   "metadata": {},
   "outputs": [
    {
     "data": {
      "text/plain": [
       "200"
      ]
     },
     "execution_count": 9,
     "metadata": {},
     "output_type": "execute_result"
    }
   ],
   "source": [
    "response.status_code"
   ]
  },
  {
   "cell_type": "code",
   "execution_count": 11,
   "metadata": {},
   "outputs": [],
   "source": [
    "data= response.json()"
   ]
  },
  {
   "cell_type": "code",
   "execution_count": 12,
   "metadata": {},
   "outputs": [
    {
     "data": {
      "text/plain": [
       "dict_keys(['instrument', 'granularity', 'candles'])"
      ]
     },
     "execution_count": 12,
     "metadata": {},
     "output_type": "execute_result"
    }
   ],
   "source": [
    "data.keys()"
   ]
  },
  {
   "cell_type": "code",
   "execution_count": 14,
   "metadata": {},
   "outputs": [
    {
     "data": {
      "text/plain": [
       "10"
      ]
     },
     "execution_count": 14,
     "metadata": {},
     "output_type": "execute_result"
    }
   ],
   "source": [
    "len(data['candles'])"
   ]
  },
  {
   "cell_type": "code",
   "execution_count": 17,
   "metadata": {},
   "outputs": [],
   "source": [
    "prices = ['mid', 'bid', 'ask']\n",
    "ohlc = ['o', 'h', 'l', 'c']"
   ]
  },
  {
   "cell_type": "code",
   "execution_count": 18,
   "metadata": {},
   "outputs": [
    {
     "name": "stdout",
     "output_type": "stream",
     "text": [
      "mid_o\n",
      "mid_h\n",
      "mid_l\n",
      "mid_c\n",
      "bid_o\n",
      "bid_h\n",
      "bid_l\n",
      "bid_c\n",
      "ask_o\n",
      "ask_h\n",
      "ask_l\n",
      "ask_c\n"
     ]
    }
   ],
   "source": [
    "for price in prices:\n",
    "    for oh in ohlc:\n",
    "        print(f\"{price}_{oh}\")\n"
   ]
  },
  {
   "cell_type": "code",
   "execution_count": 25,
   "metadata": {},
   "outputs": [
    {
     "data": {
      "text/plain": [
       "{'o': '1.06423', 'h': '1.06521', 'l': '1.06402', 'c': '1.06459'}"
      ]
     },
     "execution_count": 25,
     "metadata": {},
     "output_type": "execute_result"
    }
   ],
   "source": [
    "data['candles'][0]['bid']['o']"
   ]
  },
  {
   "cell_type": "code",
   "execution_count": 27,
   "metadata": {},
   "outputs": [
    {
     "name": "stdout",
     "output_type": "stream",
     "text": [
      "{'time': '2023-11-03T11:00:00.000000000Z', 'volume': 3016, 'mid_o': '1.06430', 'mid_h': '1.06528', 'mid_l': '1.06409', 'mid_c': '1.06467', 'bid_o': '1.06423', 'bid_h': '1.06521', 'bid_l': '1.06402', 'bid_c': '1.06459', 'ask_o': '1.06438', 'ask_h': '1.06536', 'ask_l': '1.06416', 'ask_c': '1.06475'}\n"
     ]
    }
   ],
   "source": [
    "our_data= []\n",
    "for candle in data['candles']:\n",
    "    if candle['complete'] == False:\n",
    "        continue\n",
    "    new_dict = {}\n",
    "    new_dict['time'] = candle['time']\n",
    "    new_dict['volume'] = candle['volume']\n",
    "    #print(new_dict)\n",
    "    for price in prices:\n",
    "        for oh in ohlc:\n",
    "            new_dict[f\"{price}_{oh}\"]= candle[price][oh]\n",
    "\n",
    "    our_data.append(new_dict)\n",
    "print(our_data[0])"
   ]
  },
  {
   "cell_type": "code",
   "execution_count": 28,
   "metadata": {},
   "outputs": [],
   "source": [
    "candles_df = pd.DataFrame.from_dict(our_data)"
   ]
  },
  {
   "cell_type": "code",
   "execution_count": 29,
   "metadata": {},
   "outputs": [
    {
     "data": {
      "text/html": [
       "<div>\n",
       "<style scoped>\n",
       "    .dataframe tbody tr th:only-of-type {\n",
       "        vertical-align: middle;\n",
       "    }\n",
       "\n",
       "    .dataframe tbody tr th {\n",
       "        vertical-align: top;\n",
       "    }\n",
       "\n",
       "    .dataframe thead th {\n",
       "        text-align: right;\n",
       "    }\n",
       "</style>\n",
       "<table border=\"1\" class=\"dataframe\">\n",
       "  <thead>\n",
       "    <tr style=\"text-align: right;\">\n",
       "      <th></th>\n",
       "      <th>time</th>\n",
       "      <th>volume</th>\n",
       "      <th>mid_o</th>\n",
       "      <th>mid_h</th>\n",
       "      <th>mid_l</th>\n",
       "      <th>mid_c</th>\n",
       "      <th>bid_o</th>\n",
       "      <th>bid_h</th>\n",
       "      <th>bid_l</th>\n",
       "      <th>bid_c</th>\n",
       "      <th>ask_o</th>\n",
       "      <th>ask_h</th>\n",
       "      <th>ask_l</th>\n",
       "      <th>ask_c</th>\n",
       "    </tr>\n",
       "  </thead>\n",
       "  <tbody>\n",
       "    <tr>\n",
       "      <th>0</th>\n",
       "      <td>2023-11-03T11:00:00.000000000Z</td>\n",
       "      <td>3016</td>\n",
       "      <td>1.06430</td>\n",
       "      <td>1.06528</td>\n",
       "      <td>1.06409</td>\n",
       "      <td>1.06467</td>\n",
       "      <td>1.06423</td>\n",
       "      <td>1.06521</td>\n",
       "      <td>1.06402</td>\n",
       "      <td>1.06459</td>\n",
       "      <td>1.06438</td>\n",
       "      <td>1.06536</td>\n",
       "      <td>1.06416</td>\n",
       "      <td>1.06475</td>\n",
       "    </tr>\n",
       "    <tr>\n",
       "      <th>1</th>\n",
       "      <td>2023-11-03T12:00:00.000000000Z</td>\n",
       "      <td>12095</td>\n",
       "      <td>1.06468</td>\n",
       "      <td>1.07194</td>\n",
       "      <td>1.06455</td>\n",
       "      <td>1.07094</td>\n",
       "      <td>1.06461</td>\n",
       "      <td>1.07187</td>\n",
       "      <td>1.06447</td>\n",
       "      <td>1.07087</td>\n",
       "      <td>1.06475</td>\n",
       "      <td>1.07202</td>\n",
       "      <td>1.06462</td>\n",
       "      <td>1.07102</td>\n",
       "    </tr>\n",
       "    <tr>\n",
       "      <th>2</th>\n",
       "      <td>2023-11-03T13:00:00.000000000Z</td>\n",
       "      <td>12529</td>\n",
       "      <td>1.07095</td>\n",
       "      <td>1.07248</td>\n",
       "      <td>1.06961</td>\n",
       "      <td>1.07172</td>\n",
       "      <td>1.07088</td>\n",
       "      <td>1.07238</td>\n",
       "      <td>1.06953</td>\n",
       "      <td>1.07163</td>\n",
       "      <td>1.07102</td>\n",
       "      <td>1.07257</td>\n",
       "      <td>1.06969</td>\n",
       "      <td>1.07180</td>\n",
       "    </tr>\n",
       "    <tr>\n",
       "      <th>3</th>\n",
       "      <td>2023-11-03T14:00:00.000000000Z</td>\n",
       "      <td>12965</td>\n",
       "      <td>1.07223</td>\n",
       "      <td>1.07359</td>\n",
       "      <td>1.06936</td>\n",
       "      <td>1.07199</td>\n",
       "      <td>1.07198</td>\n",
       "      <td>1.07345</td>\n",
       "      <td>1.06928</td>\n",
       "      <td>1.07191</td>\n",
       "      <td>1.07248</td>\n",
       "      <td>1.07375</td>\n",
       "      <td>1.06943</td>\n",
       "      <td>1.07207</td>\n",
       "    </tr>\n",
       "    <tr>\n",
       "      <th>4</th>\n",
       "      <td>2023-11-03T15:00:00.000000000Z</td>\n",
       "      <td>7011</td>\n",
       "      <td>1.07200</td>\n",
       "      <td>1.07355</td>\n",
       "      <td>1.07154</td>\n",
       "      <td>1.07324</td>\n",
       "      <td>1.07193</td>\n",
       "      <td>1.07347</td>\n",
       "      <td>1.07146</td>\n",
       "      <td>1.07316</td>\n",
       "      <td>1.07207</td>\n",
       "      <td>1.07363</td>\n",
       "      <td>1.07162</td>\n",
       "      <td>1.07331</td>\n",
       "    </tr>\n",
       "    <tr>\n",
       "      <th>5</th>\n",
       "      <td>2023-11-03T16:00:00.000000000Z</td>\n",
       "      <td>5952</td>\n",
       "      <td>1.07322</td>\n",
       "      <td>1.07394</td>\n",
       "      <td>1.07254</td>\n",
       "      <td>1.07394</td>\n",
       "      <td>1.07315</td>\n",
       "      <td>1.07387</td>\n",
       "      <td>1.07246</td>\n",
       "      <td>1.07386</td>\n",
       "      <td>1.07329</td>\n",
       "      <td>1.07402</td>\n",
       "      <td>1.07261</td>\n",
       "      <td>1.07402</td>\n",
       "    </tr>\n",
       "    <tr>\n",
       "      <th>6</th>\n",
       "      <td>2023-11-03T17:00:00.000000000Z</td>\n",
       "      <td>4548</td>\n",
       "      <td>1.07394</td>\n",
       "      <td>1.07469</td>\n",
       "      <td>1.07306</td>\n",
       "      <td>1.07366</td>\n",
       "      <td>1.07386</td>\n",
       "      <td>1.07461</td>\n",
       "      <td>1.07299</td>\n",
       "      <td>1.07359</td>\n",
       "      <td>1.07401</td>\n",
       "      <td>1.07477</td>\n",
       "      <td>1.07314</td>\n",
       "      <td>1.07373</td>\n",
       "    </tr>\n",
       "    <tr>\n",
       "      <th>7</th>\n",
       "      <td>2023-11-03T18:00:00.000000000Z</td>\n",
       "      <td>2894</td>\n",
       "      <td>1.07372</td>\n",
       "      <td>1.07400</td>\n",
       "      <td>1.07326</td>\n",
       "      <td>1.07359</td>\n",
       "      <td>1.07365</td>\n",
       "      <td>1.07392</td>\n",
       "      <td>1.07318</td>\n",
       "      <td>1.07352</td>\n",
       "      <td>1.07379</td>\n",
       "      <td>1.07407</td>\n",
       "      <td>1.07333</td>\n",
       "      <td>1.07366</td>\n",
       "    </tr>\n",
       "    <tr>\n",
       "      <th>8</th>\n",
       "      <td>2023-11-03T19:00:00.000000000Z</td>\n",
       "      <td>2393</td>\n",
       "      <td>1.07354</td>\n",
       "      <td>1.07376</td>\n",
       "      <td>1.07224</td>\n",
       "      <td>1.07248</td>\n",
       "      <td>1.07346</td>\n",
       "      <td>1.07369</td>\n",
       "      <td>1.07217</td>\n",
       "      <td>1.07241</td>\n",
       "      <td>1.07361</td>\n",
       "      <td>1.07383</td>\n",
       "      <td>1.07232</td>\n",
       "      <td>1.07255</td>\n",
       "    </tr>\n",
       "    <tr>\n",
       "      <th>9</th>\n",
       "      <td>2023-11-03T20:00:00.000000000Z</td>\n",
       "      <td>1224</td>\n",
       "      <td>1.07250</td>\n",
       "      <td>1.07328</td>\n",
       "      <td>1.07250</td>\n",
       "      <td>1.07286</td>\n",
       "      <td>1.07243</td>\n",
       "      <td>1.07320</td>\n",
       "      <td>1.07206</td>\n",
       "      <td>1.07269</td>\n",
       "      <td>1.07257</td>\n",
       "      <td>1.07347</td>\n",
       "      <td>1.07257</td>\n",
       "      <td>1.07303</td>\n",
       "    </tr>\n",
       "  </tbody>\n",
       "</table>\n",
       "</div>"
      ],
      "text/plain": [
       "                             time  volume    mid_o    mid_h    mid_l    mid_c  \\\n",
       "0  2023-11-03T11:00:00.000000000Z    3016  1.06430  1.06528  1.06409  1.06467   \n",
       "1  2023-11-03T12:00:00.000000000Z   12095  1.06468  1.07194  1.06455  1.07094   \n",
       "2  2023-11-03T13:00:00.000000000Z   12529  1.07095  1.07248  1.06961  1.07172   \n",
       "3  2023-11-03T14:00:00.000000000Z   12965  1.07223  1.07359  1.06936  1.07199   \n",
       "4  2023-11-03T15:00:00.000000000Z    7011  1.07200  1.07355  1.07154  1.07324   \n",
       "5  2023-11-03T16:00:00.000000000Z    5952  1.07322  1.07394  1.07254  1.07394   \n",
       "6  2023-11-03T17:00:00.000000000Z    4548  1.07394  1.07469  1.07306  1.07366   \n",
       "7  2023-11-03T18:00:00.000000000Z    2894  1.07372  1.07400  1.07326  1.07359   \n",
       "8  2023-11-03T19:00:00.000000000Z    2393  1.07354  1.07376  1.07224  1.07248   \n",
       "9  2023-11-03T20:00:00.000000000Z    1224  1.07250  1.07328  1.07250  1.07286   \n",
       "\n",
       "     bid_o    bid_h    bid_l    bid_c    ask_o    ask_h    ask_l    ask_c  \n",
       "0  1.06423  1.06521  1.06402  1.06459  1.06438  1.06536  1.06416  1.06475  \n",
       "1  1.06461  1.07187  1.06447  1.07087  1.06475  1.07202  1.06462  1.07102  \n",
       "2  1.07088  1.07238  1.06953  1.07163  1.07102  1.07257  1.06969  1.07180  \n",
       "3  1.07198  1.07345  1.06928  1.07191  1.07248  1.07375  1.06943  1.07207  \n",
       "4  1.07193  1.07347  1.07146  1.07316  1.07207  1.07363  1.07162  1.07331  \n",
       "5  1.07315  1.07387  1.07246  1.07386  1.07329  1.07402  1.07261  1.07402  \n",
       "6  1.07386  1.07461  1.07299  1.07359  1.07401  1.07477  1.07314  1.07373  \n",
       "7  1.07365  1.07392  1.07318  1.07352  1.07379  1.07407  1.07333  1.07366  \n",
       "8  1.07346  1.07369  1.07217  1.07241  1.07361  1.07383  1.07232  1.07255  \n",
       "9  1.07243  1.07320  1.07206  1.07269  1.07257  1.07347  1.07257  1.07303  "
      ]
     },
     "execution_count": 29,
     "metadata": {},
     "output_type": "execute_result"
    }
   ],
   "source": [
    "candles_df"
   ]
  },
  {
   "cell_type": "code",
   "execution_count": 31,
   "metadata": {},
   "outputs": [],
   "source": [
    "candles_df.to_pickle(\"EUR_USD_H1.pkl\")"
   ]
  },
  {
   "cell_type": "code",
   "execution_count": null,
   "metadata": {},
   "outputs": [],
   "source": []
  }
 ],
 "metadata": {
  "kernelspec": {
   "display_name": "venv",
   "language": "python",
   "name": "python3"
  },
  "language_info": {
   "codemirror_mode": {
    "name": "ipython",
    "version": 3
   },
   "file_extension": ".py",
   "mimetype": "text/x-python",
   "name": "python",
   "nbconvert_exporter": "python",
   "pygments_lexer": "ipython3",
   "version": "3.11.4"
  }
 },
 "nbformat": 4,
 "nbformat_minor": 2
}
